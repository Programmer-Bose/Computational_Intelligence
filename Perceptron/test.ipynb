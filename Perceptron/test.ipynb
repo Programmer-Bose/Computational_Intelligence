{
 "cells": [
  {
   "cell_type": "code",
   "execution_count": 31,
   "metadata": {},
   "outputs": [],
   "source": [
    "from perceptron import Perceptron\n",
    "import numpy as np"
   ]
  },
  {
   "cell_type": "markdown",
   "metadata": {},
   "source": [
    "<h2> OR GATE"
   ]
  },
  {
   "cell_type": "code",
   "execution_count": 68,
   "metadata": {},
   "outputs": [
    {
     "name": "stdout",
     "output_type": "stream",
     "text": [
      "[1 1] 1\n",
      "[1 0] 1\n",
      "[0 1] 1\n",
      "[0 0] 0\n",
      "[0.1 0.1]\n",
      "-0.1\n"
     ]
    }
   ],
   "source": [
    "\n",
    "pt_OR = Perceptron(learning_rate=0.1, epochs=10)\n",
    "\n",
    "X = np.array([[1, 1], [1, 0], [0, 1],[0, 0]])\n",
    "y = np.array([1, 1, 1, 0])\n",
    "\n",
    "pt_OR.fit(X, y)\n",
    "\n",
    "for ips in X:\n",
    "    print(ips,pt_OR.predict(np.array(ips)))\n",
    "print(pt_OR.weights)\n",
    "print(pt_OR.bias)"
   ]
  },
  {
   "cell_type": "markdown",
   "metadata": {},
   "source": [
    "<h2> AND GATE"
   ]
  },
  {
   "cell_type": "code",
   "execution_count": 69,
   "metadata": {},
   "outputs": [
    {
     "name": "stdout",
     "output_type": "stream",
     "text": [
      "[1 1] 1\n",
      "[1 0] 0\n",
      "[0 1] 0\n",
      "[0 0] 0\n",
      "[0.1 0.2]\n",
      "-0.20000000000000004\n"
     ]
    }
   ],
   "source": [
    "\n",
    "pt_AND = Perceptron(learning_rate=0.1, epochs=10)\n",
    "\n",
    "X = np.array([[1, 1], [1, 0], [0, 1],[0, 0]])\n",
    "y = np.array([1, 0, 0, 0])\n",
    "\n",
    "pt_AND.fit(X, y)\n",
    "\n",
    "for ips in X:\n",
    "    print(ips,pt_AND.predict(np.array(ips)))\n",
    "print(pt_AND.weights)\n",
    "print(pt_AND.bias)"
   ]
  },
  {
   "cell_type": "markdown",
   "metadata": {},
   "source": [
    "<h2> NOR Gate"
   ]
  },
  {
   "cell_type": "code",
   "execution_count": 70,
   "metadata": {},
   "outputs": [
    {
     "name": "stdout",
     "output_type": "stream",
     "text": [
      "[1 1] 0\n",
      "[1 0] 0\n",
      "[0 1] 0\n",
      "[0 0] 1\n",
      "[-0.1 -0.1]\n",
      "0.0\n"
     ]
    }
   ],
   "source": [
    "\n",
    "pt_NOR = Perceptron(learning_rate=0.1, epochs=10)\n",
    "\n",
    "X = np.array([[1, 1], [1, 0], [0, 1],[0, 0]])\n",
    "y = np.array([0, 0, 0, 1])\n",
    "\n",
    "pt_NOR.fit(X, y)\n",
    "\n",
    "for ips in X:\n",
    "    print(ips,pt_NOR.predict(np.array(ips)))\n",
    "print(pt_NOR.weights)\n",
    "print(pt_NOR.bias)\n",
    "\n"
   ]
  },
  {
   "cell_type": "markdown",
   "metadata": {},
   "source": [
    "<h2> NAND Gate"
   ]
  },
  {
   "cell_type": "code",
   "execution_count": 71,
   "metadata": {},
   "outputs": [
    {
     "name": "stdout",
     "output_type": "stream",
     "text": [
      "[1 1] 0\n",
      "[1 0] 1\n",
      "[0 1] 1\n",
      "[0 0] 1\n",
      "[-0.1 -0.2]\n",
      "0.2\n"
     ]
    }
   ],
   "source": [
    "\n",
    "pt_NAND = Perceptron(learning_rate=0.1, epochs=10)\n",
    "\n",
    "X = np.array([[1, 1], [1, 0], [0, 1],[0, 0]])\n",
    "y = np.array([0, 1, 1, 1])\n",
    "\n",
    "pt_NAND.fit(X, y)\n",
    "\n",
    "for ips in X:\n",
    "    print(ips,pt_NAND.predict(np.array(ips)))\n",
    "print(pt_NAND.weights)\n",
    "print(pt_NAND.bias)"
   ]
  },
  {
   "cell_type": "markdown",
   "metadata": {},
   "source": [
    "<h2> NOT Gate"
   ]
  },
  {
   "cell_type": "code",
   "execution_count": 72,
   "metadata": {},
   "outputs": [
    {
     "name": "stdout",
     "output_type": "stream",
     "text": [
      "[0] 1\n",
      "[1] 0\n",
      "[-0.1]\n",
      "0.0\n"
     ]
    }
   ],
   "source": [
    "pt_NOT = Perceptron(learning_rate=0.1, epochs=10)\n",
    "\n",
    "X = np.array([[0],[1]])\n",
    "y = np.array([1, 0])\n",
    "\n",
    "pt_NOT.fit(X, y)\n",
    "\n",
    "for ips in X:\n",
    "    print(ips,pt_NOT.predict(np.array(ips)))\n",
    "print(pt_NOT.weights)\n",
    "print(pt_NOT.bias)"
   ]
  },
  {
   "cell_type": "markdown",
   "metadata": {},
   "source": [
    "<h2> XOR Gate"
   ]
  },
  {
   "cell_type": "code",
   "execution_count": 73,
   "metadata": {},
   "outputs": [
    {
     "name": "stdout",
     "output_type": "stream",
     "text": [
      "[1 1] 0\n",
      "[1 0] 1\n",
      "[0 1] 1\n",
      "[0 0] 0\n"
     ]
    }
   ],
   "source": [
    "inputs = np.array([[1, 1], [1, 0], [0, 1],[0, 0]])\n",
    "\n",
    "for ips in inputs:\n",
    "    L1_NAND = pt_NAND.predict(np.array(ips))\n",
    "    L1_OR = pt_OR.predict(np.array(ips))\n",
    "\n",
    "    L2_AND = pt_AND.predict(np.array([L1_NAND,L1_OR]))\n",
    "    print(ips,L2_AND)\n",
    "   "
   ]
  }
 ],
 "metadata": {
  "interpreter": {
   "hash": "f73c0e42b7614b5c1174f145f58fa0932b8d2be412239a4f9c92c27e51a78ebc"
  },
  "kernelspec": {
   "display_name": "Python 3.11.1 64-bit",
   "language": "python",
   "name": "python3"
  },
  "language_info": {
   "codemirror_mode": {
    "name": "ipython",
    "version": 3
   },
   "file_extension": ".py",
   "mimetype": "text/x-python",
   "name": "python",
   "nbconvert_exporter": "python",
   "pygments_lexer": "ipython3",
   "version": "3.11.1"
  },
  "orig_nbformat": 4
 },
 "nbformat": 4,
 "nbformat_minor": 2
}
