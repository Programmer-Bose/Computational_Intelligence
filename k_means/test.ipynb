{
 "cells": [
  {
   "cell_type": "markdown",
   "metadata": {},
   "source": [
    "### ***K-Means Cluster***"
   ]
  },
  {
   "cell_type": "code",
   "execution_count": null,
   "metadata": {},
   "outputs": [],
   "source": [
    "import kmc\n",
    "import numpy as np\n",
    "\n",
    "np.random.seed(0)\n",
    "data = np.random.rand(100, 2)\n",
    "\n",
    "# Specify the number of clusters (k)\n",
    "k = 3\n",
    "\n",
    "# Create a KMeans object and perform clustering\n",
    "kmeans = kmc.KMeans(k)\n",
    "out = kmeans.do_cluster(data)\n",
    "print(\"centroids:\", out[0])\n",
    "print(\"labels:\", out[1])\n",
    "\n",
    "# Visualize the clusters\n",
    "kmeans.plot_clusters()"
   ]
  }
 ],
 "metadata": {
  "interpreter": {
   "hash": "f73c0e42b7614b5c1174f145f58fa0932b8d2be412239a4f9c92c27e51a78ebc"
  },
  "kernelspec": {
   "display_name": "Python 3.11.1 64-bit",
   "language": "python",
   "name": "python3"
  },
  "language_info": {
   "codemirror_mode": {
    "name": "ipython",
    "version": 3
   },
   "file_extension": ".py",
   "mimetype": "text/x-python",
   "name": "python",
   "nbconvert_exporter": "python",
   "pygments_lexer": "ipython3",
   "version": "3.11.1"
  },
  "orig_nbformat": 4
 },
 "nbformat": 4,
 "nbformat_minor": 2
}
